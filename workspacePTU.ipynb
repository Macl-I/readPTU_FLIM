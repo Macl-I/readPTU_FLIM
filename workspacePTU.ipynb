{
 "cells": [
  {
   "cell_type": "markdown",
   "metadata": {},
   "source": [
    "# readPTU_FLIM library\n",
    "### **`What is available !`**\n",
    "**`The library provides the capability to handle all PicoQuant's TCSPC Harps in T2 as well as T3 mode.`**\n",
    "- PicoQuant uses a bespoke file format called PTU to store data from time-tag-time-resolved (TTTR) measurements.<br/>\n",
    "- Current file format (.ptu) and is subsequent to the former .pt2 or .pt3 and can handle both T2 and T3 acquisition modes for a variety of TCSPC devices (MultiHarp, HydraHarp, TimeHarp, PicoHarp, etc.) <br/>\n",
    "- At the moment, the library was tested for FLIM data obtained using MultiHarp, HydraHarp and PicoHarp. <br/>\n",
    "\n",
    "### **`What is not available !`**\n",
    "- Option to save data after processing. <br/>\n",
    "#### !!! Help is only an email away for MATLAB implementation of the same library.\n"
   ]
  },
  {
   "cell_type": "markdown",
   "metadata": {},
   "source": [
    "## Demo: Jupyter Notebook to work with PicoQuant PTU files\n",
    "\n",
    "### Dependencies\n",
    "\n",
    "* conda install numpy\n",
    "\n",
    "* conda install matplotlib\n",
    "\n",
    "* conda install numba\n",
    "\n",
    "* readPTU_FLIM.py"
   ]
  },
  {
   "cell_type": "code",
   "execution_count": null,
   "metadata": {
    "ExecuteTime": {
     "end_time": "2019-05-12T11:25:59.166829Z",
     "start_time": "2019-05-12T11:25:55.590029Z"
    }
   },
   "outputs": [],
   "source": [
    "from readPTU_FLIM import PTUreader\n",
    "import numpy as np\n",
    "from matplotlib import pyplot as plt"
   ]
  },
  {
   "cell_type": "markdown",
   "metadata": {},
   "source": [
    "## Select a PTU file to read\n",
    "- As an example, first we import the readPTU_FLIM library. Then we should open the PTU file using a PTUreader() object. By constructing a PTUreader() object, automatically opens the file, reads the PTU file header and TTTR data in raw format. PTU file header contains important measurement information (PQ TCSPC unit, laser/pulse sync rate, FLIM record type, scanner type, etc.)<br/><br/> \n",
    "- **`Test_FLIM_image_daisyPollen_PicoHarp_2.ptu`** [Download test file here]([Download the test file here](https://drive.google.com/file/d/1bbtw0rZQk8HHlp8SYQlvMpdzuEEFIAZL/edit)<br> \n",
    "FLIM data was acquired using a PicoHarp (T3 mode) <br>\n",
    "Exctiation Laser light: 485 nm<br>\n",
    "Number of Detection Channels: 2<br/><br/>\n",
    "- At the moment, PTUreader library contains implementation for reading imaging data from laser beam scanner (LSM) units.<br/><br/> \n",
    "- <u>**Readability for PTU/TTTR data acquired using Piezo Scanner not implemented YET!**<u> <br/><br/>\n"
   ]
  },
  {
   "cell_type": "code",
   "execution_count": null,
   "metadata": {
    "ExecuteTime": {
     "end_time": "2019-05-12T11:26:08.432029Z",
     "start_time": "2019-05-12T11:26:01.847829Z"
    },
    "code_folding": [],
    "scrolled": false
   },
   "outputs": [],
   "source": [
    "# Choose a filename and create a\n",
    "ptu_file  = PTUreader('Test_FLIM_image_daisyPollen_PicoHarp_2.ptu', print_header_data = False)"
   ]
  },
  {
   "cell_type": "markdown",
   "metadata": {},
   "source": [
    "## How to access raw data from ptu_file object?"
   ]
  },
  {
   "cell_type": "code",
   "execution_count": null,
   "metadata": {
    "ExecuteTime": {
     "end_time": "2019-05-01T09:11:08.783438Z",
     "start_time": "2019-05-01T09:11:08.502638Z"
    },
    "code_folding": []
   },
   "outputs": [],
   "source": [
    "# # Raw data can be accessed using ptu_file object\n",
    "# sync    = ptu_file.sync    # Macro photon arrival time\n",
    "# tcspc   = ptu_file.tcspc   # Micro photon arrival time (tcspc time bin resoultion)\n",
    "# channel = ptu_file.channel # Detection channel of tcspc unit (<=8 for PQ hardware in 2019)\n",
    "# special = ptu_file.special # Special event markers, for e.g. Frame, LineStart, LineStop, etc."
   ]
  },
  {
   "cell_type": "markdown",
   "metadata": {},
   "source": [
    "## Get flim_data_stack and intensity_image from raw TTTR data\n",
    " **`Note`**: once NEXT CODE block is executed raw TTTR data variables (sync, tcspc, channel, special) are deleted\n",
    "- `flim_data_stack`: (pixX, pixY, spectral_detection_channel, tcspc_bins)\n",
    "- `intensity_image`: (pixX, pixY)\n",
    "\n",
    "**`For example`**:\n",
    "How to get all the tcspc histogram data from all pixels from spectral detection channel 1?  (hint below!) <br /> \n",
    "\n",
    "```python\n",
    "channel_1_data = flim_data_stack[:,:,0,:]\n",
    "```"
   ]
  },
  {
   "cell_type": "code",
   "execution_count": null,
   "metadata": {
    "ExecuteTime": {
     "end_time": "2019-05-12T11:26:22.215229Z",
     "start_time": "2019-05-12T11:26:12.085629Z"
    }
   },
   "outputs": [],
   "source": [
    "#Get FLIM data stack\n",
    "flim_data_stack, intensity_image = ptu_file.get_flim_data_stack()"
   ]
  },
  {
   "cell_type": "markdown",
   "metadata": {},
   "source": [
    "## Plot Intensity image"
   ]
  },
  {
   "cell_type": "code",
   "execution_count": null,
   "metadata": {
    "ExecuteTime": {
     "end_time": "2019-05-12T10:16:46.759202Z",
     "start_time": "2019-05-12T10:16:46.478402Z"
    },
    "code_folding": []
   },
   "outputs": [],
   "source": [
    "# %matplotlib inline\n",
    "# #plot intensity image\n",
    "# plt.imshow(intensity_image)\n",
    "# plt.colorbar()"
   ]
  },
  {
   "cell_type": "markdown",
   "metadata": {
    "ExecuteTime": {
     "end_time": "2019-05-05T12:56:33.461469Z",
     "start_time": "2019-05-05T12:56:32.912469Z"
    }
   },
   "source": [
    "## Plot and Play ▶\n",
    "- Please see Jupyter notebook for implementation\n",
    "- Once the FLIM data stack is loaded, one could create custom gui for performing all sort of FLIM analysis routines as needed.\n",
    "- As an example a simple intensity image is plotted \n",
    "- User can investigate the fluorescence decays after drawing a rectangle on the intensity image"
   ]
  },
  {
   "cell_type": "code",
   "execution_count": null,
   "metadata": {
    "ExecuteTime": {
     "end_time": "2019-05-12T12:54:02.125253Z",
     "start_time": "2019-05-12T12:54:00.640453Z"
    },
    "code_folding": [
     4
    ],
    "scrolled": false
   },
   "outputs": [],
   "source": [
    "# Code for GUI\n",
    "%matplotlib notebook\n",
    "\n",
    "class RectangularROI:\n",
    "    \n",
    "    def __init__(self, decay_data, image_AX,decay_AX,decay_fig, tau_resolution):\n",
    "        self.decay_data     = decay_data\n",
    "        self.image_ax       = image_AX\n",
    "        self.decay_ax       = decay_AX\n",
    "        self.decay_fig      = decay_fig\n",
    "        self.tau_resolution = tau_resolution\n",
    "        self.image_ax.figure.canvas.mpl_connect('button_press_event', self.on_press)\n",
    "        self.image_ax.figure.canvas.mpl_connect('button_release_event', self.on_release)\n",
    "        self.xs  = None\n",
    "        self.ys  = None\n",
    "    def on_press(self, event):\n",
    "        \n",
    "        self.x0 = event.xdata\n",
    "        self.y0 = event.ydata\n",
    "\n",
    "    def on_release(self, event):\n",
    "\n",
    "        self.x1 = event.xdata\n",
    "        self.y1 = event.ydata\n",
    "        self.x_indices = np.int_(np.ceil(np.abs(np.sort(np.array([self.x1,self.x0]))))) # [x1, x2]\n",
    "        self.y_indices = np.int_(np.ceil(np.abs(np.sort(np.array([self.y0,self.y1]))))) # [y1, y2]\n",
    "        self.ys = np.sum(self.decay_data[self.y_indices[0]:self.y_indices[1],self.x_indices[0]:self.x_indices[1],:], axis=0)\n",
    "        self.ys = np.sum(self.ys, axis = 0)\n",
    "        self.xs = np.linspace(0,decay_data.shape[2],decay_data.shape[2], dtype = np.int)*self.tau_resolution\n",
    "        self.decay_ax.set_data(self.xs,self.ys)\n",
    "        self.decay_fig.set_ylim(ymin = 0, ymax = np.max(self.ys)*10)\n",
    "        self.decay_ax.fig.canvas.draw()\n",
    "\n",
    "\n",
    "decay_data  = np.sum(flim_data_stack,axis = 2)        \n",
    "tau_resolution = ptu_file.head[\"MeasDesc_Resolution\"]*1e9\n",
    "\n",
    "fig = plt.figure(figsize=(9,4))\n",
    "\n",
    "image_ax = fig.add_subplot(121)\n",
    "image_AX = image_ax.imshow(intensity_image,cmap=\"viridis\") \n",
    "fig.colorbar(image_AX)\n",
    "image_ax.set_aspect('auto')\n",
    "plt.title('Draw a Rectangle on intensity image')\n",
    "\n",
    "# Plot decay here\n",
    "# default decay data Pixel (0,0)\n",
    "plot_decay_data = decay_data[0,0,:]\n",
    "tau = np.linspace(0,decay_data.shape[2],decay_data.shape[2], dtype = np.int)*(ptu_file.head[\"MeasDesc_Resolution\"]*1e9)\n",
    "decay_fig = fig.add_subplot(122)\n",
    "decay_AX,  = decay_fig.plot(tau,plot_decay_data,'k-',label='Selected ROI Histogram', linewidth=1)\n",
    "plt.yscale(value=\"log\")\n",
    "#plt.autoscale(enable=True, axis=1)\n",
    "plt.axis([0, np.max(tau), 0, np.max(plot_decay_data)*10])\n",
    "plt.xlabel('Time [ns]')\n",
    "plt.ylabel('Intensity [counts]')\n",
    "plt.title('TCSPC Decay')\n",
    "plt.grid(True)\n",
    "plt.legend()\n",
    "\n",
    "plt.sca(decay_fig)\n",
    "linebuilder = RectangularROI(decay_data,image_AX,decay_AX,decay_fig,tau_resolution)\n",
    "plt.tight_layout()\n",
    "plt.show()"
   ]
  },
  {
   "cell_type": "code",
   "execution_count": null,
   "metadata": {},
   "outputs": [],
   "source": []
  },
  {
   "cell_type": "code",
   "execution_count": null,
   "metadata": {},
   "outputs": [],
   "source": []
  },
  {
   "cell_type": "code",
   "execution_count": null,
   "metadata": {},
   "outputs": [],
   "source": []
  }
 ],
 "metadata": {
  "kernelspec": {
   "display_name": "Python 3",
   "language": "python",
   "name": "python3"
  },
  "language_info": {
   "codemirror_mode": {
    "name": "ipython",
    "version": 3
   },
   "file_extension": ".py",
   "mimetype": "text/x-python",
   "name": "python",
   "nbconvert_exporter": "python",
   "pygments_lexer": "ipython3",
   "version": "3.7.3"
  },
  "varInspector": {
   "cols": {
    "lenName": 16,
    "lenType": 16,
    "lenVar": 40
   },
   "kernels_config": {
    "python": {
     "delete_cmd_postfix": "",
     "delete_cmd_prefix": "del ",
     "library": "var_list.py",
     "varRefreshCmd": "print(var_dic_list())"
    },
    "r": {
     "delete_cmd_postfix": ") ",
     "delete_cmd_prefix": "rm(",
     "library": "var_list.r",
     "varRefreshCmd": "cat(var_dic_list()) "
    }
   },
   "oldHeight": 262,
   "position": {
    "height": "40px",
    "left": "238px",
    "right": "57px",
    "top": "26px",
    "width": "800px"
   },
   "types_to_exclude": [
    "module",
    "function",
    "builtin_function_or_method",
    "instance",
    "_Feature"
   ],
   "varInspector_section_display": "none",
   "window_display": true
  }
 },
 "nbformat": 4,
 "nbformat_minor": 2
}
